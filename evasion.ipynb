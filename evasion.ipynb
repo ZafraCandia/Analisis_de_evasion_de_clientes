{
  "nbformat": 4,
  "nbformat_minor": 0,
  "metadata": {
    "colab": {
      "provenance": [],
      "authorship_tag": "ABX9TyNUtwZKSMRJOuwn4Z+EYkm7",
      "include_colab_link": true
    },
    "kernelspec": {
      "name": "python3",
      "display_name": "Python 3"
    },
    "language_info": {
      "name": "python"
    }
  },
  "cells": [
    {
      "cell_type": "markdown",
      "metadata": {
        "id": "view-in-github",
        "colab_type": "text"
      },
      "source": [
        "<a href=\"https://colab.research.google.com/github/ZafraCandia/Analisis_de_evasion_de_clientes/blob/main/evasion.ipynb\" target=\"_parent\"><img src=\"https://colab.research.google.com/assets/colab-badge.svg\" alt=\"Open In Colab\"/></a>"
      ]
    },
    {
      "cell_type": "code",
      "source": [
        "import pandas as pd\n",
        "import seaborn as sns\n",
        "import matplotlib.pyplot as plt\n",
        "\n",
        "\n",
        "df = pd.read_json('...TelecomX_Data.json')\n",
        "\n",
        "\n",
        "print(df.info())\n",
        "print(df.describe())\n",
        "print(df.isna().sum())\n",
        "\n",
        "\n",
        "df = df.drop_duplicates()\n",
        "df['fecha_registro'] = pd.to_datetime(df['fecha_registro'])\n",
        "df['facturacion'] = pd.to_numeric(df['facturacion'], errors='coerce')\n",
        "df['facturacion'].fillna(df['facturacion'].median(), inplace=True)\n",
        "\n",
        "\n",
        "df['antiguedad_meses'] = (pd.Timestamp.now() - df['fecha_registro']).dt.days / 30\n",
        "df = pd.get_dummies(df, columns=['plan', 'region'], drop_first=True)\n",
        "\n",
        "\n",
        "sns.boxplot(x='churn', y='facturacion', data=df)\n",
        "plt.show()\n",
        "\n",
        "\n",
        "df.to_csv('TelecomX_cleaned.csv', index=False)\n"
      ],
      "metadata": {
        "id": "0VZMCNCIS7Sk"
      },
      "execution_count": null,
      "outputs": []
    },
    {
      "cell_type": "code",
      "source": [
        "import pandas as pd\n",
        "\n",
        "\n",
        "url = \"https://raw.githubusercontent.com/alura-cursos/challenge2-data-science-LATAM/main/TelecomX_Data.json\"\n",
        "\n",
        "\n",
        "df = pd.read_json(url)\n",
        "\n",
        "\n",
        "print(\"\\nValores faltantes por columna:\")\n",
        "print(df.isna().sum())\n",
        "\n",
        "\n",
        "print(\"\\nNúmero de registros duplicados:\", df.duplicated().sum())\n",
        "\n",
        "\n",
        "print(\"\\nResumen estadístico:\")\n",
        "print(df.describe())\n",
        "\n",
        "\n",
        "import matplotlib.pyplot as plt\n",
        "numeric_cols = df.select_dtypes(include=['int64', 'float64']).columns\n",
        "\n",
        "for col in numeric_cols:\n",
        "    plt.figure()\n",
        "    df.boxplot(column=col)\n",
        "    plt.title(f\"Detección de outliers en: {col}\")\n",
        "    plt.show()\n"
      ],
      "metadata": {
        "id": "eVd1wEpZS8fz"
      },
      "execution_count": null,
      "outputs": []
    }
  ]
}